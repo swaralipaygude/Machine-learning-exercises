{
 "cells": [
  {
   "cell_type": "markdown",
   "metadata": {},
   "source": [
    "**KNN**"
   ]
  },
  {
   "cell_type": "code",
   "execution_count": 19,
   "metadata": {},
   "outputs": [],
   "source": [
    "from sklearn import preprocessing\n",
    "import pandas as pd\n",
    "import numpy as np\n"
   ]
  },
  {
   "cell_type": "code",
   "execution_count": 20,
   "metadata": {},
   "outputs": [
    {
     "name": "stdout",
     "output_type": "stream",
     "text": [
      "   X  Y Class\n",
      "0  2  4     N\n",
      "1  4  6     N\n",
      "2  4  4     P\n",
      "3  4  2     N\n",
      "4  6  4     N\n",
      "5  6  2     P\n"
     ]
    }
   ],
   "source": [
    "from sklearn.neighbors import KNeighborsClassifier\n",
    "\n",
    "df = pd.read_csv(\"knn.csv\")\n",
    "\n",
    "print(df)"
   ]
  },
  {
   "cell_type": "code",
   "execution_count": 42,
   "metadata": {},
   "outputs": [
    {
     "name": "stdout",
     "output_type": "stream",
     "text": [
      "\n",
      " [[2 4]\n",
      " [4 6]\n",
      " [4 4]\n",
      " [4 2]\n",
      " [6 4]\n",
      " [6 2]]\n",
      "\n",
      " ['N' 'N' 'P' 'N' 'N' 'P']\n"
     ]
    }
   ],
   "source": [
    "# features\n",
    "x = df.iloc[:,:-1].values\n",
    "print(\"\\n\",x)\n",
    "\n",
    "# class labels\n",
    "y = df.iloc[:,2].values\n",
    "print(\"\\n\",y)"
   ]
  },
  {
   "cell_type": "code",
   "execution_count": 22,
   "metadata": {},
   "outputs": [
    {
     "name": "stdout",
     "output_type": "stream",
     "text": [
      "['P']\n"
     ]
    }
   ],
   "source": [
    "# for k=3\n",
    "classifier = KNeighborsClassifier(n_neighbors = 3)\n",
    "\n",
    "# train\n",
    "classifier.fit(x,y)\n",
    "x_test = np.array([4,2])\n",
    "\n",
    "# test\n",
    "y_pred = classifier.predict([x_test])\n",
    "print(y_pred)"
   ]
  },
  {
   "cell_type": "code",
   "execution_count": 41,
   "metadata": {},
   "outputs": [
    {
     "name": "stdout",
     "output_type": "stream",
     "text": [
      "\n",
      " [2 2 0 1 1 1 0 2 2 1 2 0 0 1]\n",
      "\n",
      " [1 1 1 2 0 0 0 2 0 2 2 2 1 2]\n",
      "\n",
      " [0 0 1 1 1 0 1 0 1 1 1 1 1 0]\n"
     ]
    }
   ],
   "source": [
    "# assigning features and label variables\n",
    "\n",
    "# 1st feature\n",
    "weather = ['Sunny','Sunny','Overcast','Rainy','Rainy','Rainy','Overcast','Sunny','Sunny','Rainy','Sunny','Overcast','Overcast','Rainy']\n",
    "# 2nd feature\n",
    "temp = ['Hot','Hot','Hot','Mild','Cool','Cool','Cool','Mild','Cool','Mild','Mild','Mild','Hot','Mild']\n",
    "\n",
    "# target or label variable\n",
    "play = ['No','No','Yes','Yes','Yes','No','Yes','No','Yes','Yes','Yes','Yes','Yes','No']\n",
    "\n",
    "le = preprocessing.LabelEncoder()\n",
    "\n",
    "# encoding to numbers\n",
    "weather_enc = le.fit_transform(weather)\n",
    "temp_enc = le.fit_transform(temp)\n",
    "label_enc = le.fit_transform(play)\n",
    "\n",
    "print(\"\\n\",weather_enc)\n",
    "print(\"\\n\",temp_enc)\n",
    "print(\"\\n\",label_enc)"
   ]
  },
  {
   "cell_type": "code",
   "execution_count": 26,
   "metadata": {},
   "outputs": [
    {
     "data": {
      "text/plain": [
       "[(2, 1),\n",
       " (2, 1),\n",
       " (0, 1),\n",
       " (1, 2),\n",
       " (1, 0),\n",
       " (1, 0),\n",
       " (0, 0),\n",
       " (2, 2),\n",
       " (2, 0),\n",
       " (1, 2),\n",
       " (2, 2),\n",
       " (0, 2),\n",
       " (0, 1),\n",
       " (1, 2)]"
      ]
     },
     "execution_count": 26,
     "metadata": {},
     "output_type": "execute_result"
    }
   ],
   "source": [
    "# combine weather and temp in a single list of tuples\n",
    "\n",
    "features = list(zip(weather_enc,temp_enc))\n",
    "features"
   ]
  },
  {
   "cell_type": "code",
   "execution_count": 27,
   "metadata": {},
   "outputs": [
    {
     "name": "stdout",
     "output_type": "stream",
     "text": [
      "[1]\n"
     ]
    }
   ],
   "source": [
    "# for k=3\n",
    "model = KNeighborsClassifier(n_neighbors = 3)\n",
    "\n",
    "# train\n",
    "model.fit(features,label_enc)\n",
    "x_test = np.array([0,2])\n",
    "\n",
    "# test\n",
    "pred = model.predict([x_test])\n",
    "print(pred)\n"
   ]
  },
  {
   "cell_type": "code",
   "execution_count": 30,
   "metadata": {},
   "outputs": [
    {
     "name": "stdout",
     "output_type": "stream",
     "text": [
      "   Height  Age  Weight\n",
      "0    5.00   45      77\n",
      "1    5.11   26      47\n",
      "2    5.60   30      55\n",
      "3    5.90   34      59\n",
      "4    4.80   40      72\n",
      "5    5.80   36      60\n",
      "6    5.30   19      40\n",
      "7    5.80   28      60\n",
      "8    5.50   23      45\n",
      "9    5.60   32      58\n"
     ]
    }
   ],
   "source": [
    "# import csv\n",
    "df1 = pd.read_csv(\"knn1.csv\")\n",
    "\n",
    "print(df1)"
   ]
  },
  {
   "cell_type": "code",
   "execution_count": 45,
   "metadata": {},
   "outputs": [
    {
     "name": "stdout",
     "output_type": "stream",
     "text": [
      "\n",
      " [[ 5.   45.  ]\n",
      " [ 5.11 26.  ]\n",
      " [ 5.6  30.  ]\n",
      " [ 5.9  34.  ]\n",
      " [ 4.8  40.  ]\n",
      " [ 5.8  36.  ]\n",
      " [ 5.3  19.  ]\n",
      " [ 5.8  28.  ]\n",
      " [ 5.5  23.  ]\n",
      " [ 5.6  32.  ]]\n",
      "\n",
      " [77 47 55 59 72 60 40 60 45 58]\n"
     ]
    }
   ],
   "source": [
    "# features\n",
    "x1 = df1.iloc[:,:-1].values\n",
    "print(\"\\n\",x1)\n",
    "\n",
    "# class labels\n",
    "y1 = df1.iloc[:,2].values\n",
    "print(\"\\n\",y1)"
   ]
  },
  {
   "cell_type": "code",
   "execution_count": 32,
   "metadata": {},
   "outputs": [
    {
     "name": "stdout",
     "output_type": "stream",
     "text": [
      "[45]\n"
     ]
    }
   ],
   "source": [
    "# for k=3\n",
    "classifier3 = KNeighborsClassifier(n_neighbors = 3)\n",
    "\n",
    "# train\n",
    "classifier3.fit(x1,y1)\n",
    "x1_test = np.array([5.50,26])\n",
    "\n",
    "# test\n",
    "y1_pred = classifier3.predict([x1_test])\n",
    "print(y1_pred)"
   ]
  },
  {
   "cell_type": "code",
   "execution_count": 33,
   "metadata": {},
   "outputs": [
    {
     "name": "stdout",
     "output_type": "stream",
     "text": [
      "[45]\n"
     ]
    }
   ],
   "source": [
    "# for k=4\n",
    "classifier4 = KNeighborsClassifier(n_neighbors = 4)\n",
    "\n",
    "# train\n",
    "classifier4.fit(x1,y1)\n",
    "x1_test = np.array([5.50,26])\n",
    "\n",
    "# test\n",
    "y1_pred = classifier4.predict([x1_test])\n",
    "print(y1_pred)"
   ]
  },
  {
   "cell_type": "code",
   "execution_count": 34,
   "metadata": {},
   "outputs": [
    {
     "name": "stdout",
     "output_type": "stream",
     "text": [
      "[45]\n"
     ]
    }
   ],
   "source": [
    "# for k=5\n",
    "classifier5 = KNeighborsClassifier(n_neighbors = 5)\n",
    "\n",
    "# train\n",
    "classifier5.fit(x1,y1)\n",
    "x1_test = np.array([5.50,26])\n",
    "\n",
    "# test\n",
    "y1_pred = classifier5.predict([x1_test])\n",
    "print(y1_pred)"
   ]
  },
  {
   "cell_type": "code",
   "execution_count": 35,
   "metadata": {},
   "outputs": [
    {
     "name": "stdout",
     "output_type": "stream",
     "text": [
      "[53.]\n"
     ]
    }
   ],
   "source": [
    "# import KNN regressor\n",
    "from sklearn.neighbors import KNeighborsRegressor\n",
    "\n",
    "# for k=5\n",
    "classifier = KNeighborsRegressor(n_neighbors = 5)\n",
    "\n",
    "# train\n",
    "classifier.fit(x1,y1)\n",
    "x1_test = np.array([5.50,26])\n",
    "\n",
    "# test\n",
    "y1_pred = classifier.predict([x1_test])\n",
    "print(y1_pred)"
   ]
  },
  {
   "cell_type": "code",
   "execution_count": 44,
   "metadata": {},
   "outputs": [
    {
     "name": "stdout",
     "output_type": "stream",
     "text": [
      "\n",
      " ['alcohol', 'malic_acid', 'ash', 'alcalinity_of_ash', 'magnesium', 'total_phenols', 'flavanoids', 'nonflavanoid_phenols', 'proanthocyanins', 'color_intensity', 'hue', 'od280/od315_of_diluted_wines', 'proline']\n",
      "\n",
      " ['class_0' 'class_1' 'class_2']\n"
     ]
    }
   ],
   "source": [
    "from sklearn import datasets\n",
    "\n",
    "wine = datasets.load_wine()\n",
    "\n",
    "# print feature names\n",
    "print(\"\\n\",wine.feature_names)\n",
    "\n",
    "# print label species\n",
    "print(\"\\n\",wine.target_names)"
   ]
  },
  {
   "cell_type": "code",
   "execution_count": 43,
   "metadata": {},
   "outputs": [
    {
     "name": "stdout",
     "output_type": "stream",
     "text": [
      "\n",
      " [0 0 0 0 0 0 0 0 0 0 0 0 0 0 0 0 0 0 0 0 0 0 0 0 0 0 0 0 0 0 0 0 0 0 0 0 0\n",
      " 0 0 0 0 0 0 0 0 0 0 0 0 0 0 0 0 0 0 0 0 0 0 1 1 1 1 1 1 1 1 1 1 1 1 1 1 1\n",
      " 1 1 1 1 1 1 1 1 1 1 1 1 1 1 1 1 1 1 1 1 1 1 1 1 1 1 1 1 1 1 1 1 1 1 1 1 1\n",
      " 1 1 1 1 1 1 1 1 1 1 1 1 1 1 1 1 1 1 1 2 2 2 2 2 2 2 2 2 2 2 2 2 2 2 2 2 2\n",
      " 2 2 2 2 2 2 2 2 2 2 2 2 2 2 2 2 2 2 2 2 2 2 2 2 2 2 2 2 2 2]\n"
     ]
    }
   ],
   "source": [
    "# print wine labels  (0:class_0,1:class_1,2:class_2)\n",
    "print(\"\\n\",wine.target)"
   ]
  },
  {
   "cell_type": "code",
   "execution_count": null,
   "metadata": {},
   "outputs": [],
   "source": []
  }
 ],
 "metadata": {
  "kernelspec": {
   "display_name": "Python 3",
   "language": "python",
   "name": "python3"
  },
  "language_info": {
   "codemirror_mode": {
    "name": "ipython",
    "version": 3
   },
   "file_extension": ".py",
   "mimetype": "text/x-python",
   "name": "python",
   "nbconvert_exporter": "python",
   "pygments_lexer": "ipython3",
   "version": "3.7.4"
  }
 },
 "nbformat": 4,
 "nbformat_minor": 2
}
